{
 "cells": [
  {
   "cell_type": "markdown",
   "metadata": {},
   "source": [
    "## Converting a Project I did in R into Python"
   ]
  },
  {
   "cell_type": "code",
   "execution_count": 137,
   "metadata": {},
   "outputs": [],
   "source": [
    "import numpy as np\n",
    "import pandas as pd\n",
    "import matplotlib.pyplot as plt\n",
    "import seaborn as sns\n",
    "from sklearn.preprocessing import LabelEncoder, StandardScaler\n",
    "from sklearn.model_selection import train_test_split, GridSearchCV, RepeatedStratifiedKFold\n",
    "from sklearn.linear_model import LogisticRegression\n",
    "from sklearn.metrics import confusion_matrix, classification_report\n",
    "from sklearn.discriminant_analysis import LinearDiscriminantAnalysis, QuadraticDiscriminantAnalysis\n",
    "from sklearn.neighbors import KNeighborsClassifier\n",
    "from sklearn.svm import SVC"
   ]
  },
  {
   "cell_type": "code",
   "execution_count": 30,
   "metadata": {},
   "outputs": [],
   "source": [
    "file_name = 'winequality-red.csv'\n",
    "wine = pd.read_csv(file_name)"
   ]
  },
  {
   "cell_type": "code",
   "execution_count": 14,
   "metadata": {},
   "outputs": [
    {
     "data": {
      "text/html": [
       "<div>\n",
       "<style scoped>\n",
       "    .dataframe tbody tr th:only-of-type {\n",
       "        vertical-align: middle;\n",
       "    }\n",
       "\n",
       "    .dataframe tbody tr th {\n",
       "        vertical-align: top;\n",
       "    }\n",
       "\n",
       "    .dataframe thead th {\n",
       "        text-align: right;\n",
       "    }\n",
       "</style>\n",
       "<table border=\"1\" class=\"dataframe\">\n",
       "  <thead>\n",
       "    <tr style=\"text-align: right;\">\n",
       "      <th></th>\n",
       "      <th>fixed acidity</th>\n",
       "      <th>volatile acidity</th>\n",
       "      <th>citric acid</th>\n",
       "      <th>residual sugar</th>\n",
       "      <th>chlorides</th>\n",
       "      <th>free sulfur dioxide</th>\n",
       "      <th>total sulfur dioxide</th>\n",
       "      <th>density</th>\n",
       "      <th>pH</th>\n",
       "      <th>sulphates</th>\n",
       "      <th>alcohol</th>\n",
       "      <th>quality</th>\n",
       "    </tr>\n",
       "  </thead>\n",
       "  <tbody>\n",
       "    <tr>\n",
       "      <th>0</th>\n",
       "      <td>7.4</td>\n",
       "      <td>0.70</td>\n",
       "      <td>0.00</td>\n",
       "      <td>1.9</td>\n",
       "      <td>0.076</td>\n",
       "      <td>11.0</td>\n",
       "      <td>34.0</td>\n",
       "      <td>0.9978</td>\n",
       "      <td>3.51</td>\n",
       "      <td>0.56</td>\n",
       "      <td>9.4</td>\n",
       "      <td>5</td>\n",
       "    </tr>\n",
       "    <tr>\n",
       "      <th>1</th>\n",
       "      <td>7.8</td>\n",
       "      <td>0.88</td>\n",
       "      <td>0.00</td>\n",
       "      <td>2.6</td>\n",
       "      <td>0.098</td>\n",
       "      <td>25.0</td>\n",
       "      <td>67.0</td>\n",
       "      <td>0.9968</td>\n",
       "      <td>3.20</td>\n",
       "      <td>0.68</td>\n",
       "      <td>9.8</td>\n",
       "      <td>5</td>\n",
       "    </tr>\n",
       "    <tr>\n",
       "      <th>2</th>\n",
       "      <td>7.8</td>\n",
       "      <td>0.76</td>\n",
       "      <td>0.04</td>\n",
       "      <td>2.3</td>\n",
       "      <td>0.092</td>\n",
       "      <td>15.0</td>\n",
       "      <td>54.0</td>\n",
       "      <td>0.9970</td>\n",
       "      <td>3.26</td>\n",
       "      <td>0.65</td>\n",
       "      <td>9.8</td>\n",
       "      <td>5</td>\n",
       "    </tr>\n",
       "    <tr>\n",
       "      <th>3</th>\n",
       "      <td>11.2</td>\n",
       "      <td>0.28</td>\n",
       "      <td>0.56</td>\n",
       "      <td>1.9</td>\n",
       "      <td>0.075</td>\n",
       "      <td>17.0</td>\n",
       "      <td>60.0</td>\n",
       "      <td>0.9980</td>\n",
       "      <td>3.16</td>\n",
       "      <td>0.58</td>\n",
       "      <td>9.8</td>\n",
       "      <td>6</td>\n",
       "    </tr>\n",
       "    <tr>\n",
       "      <th>4</th>\n",
       "      <td>7.4</td>\n",
       "      <td>0.70</td>\n",
       "      <td>0.00</td>\n",
       "      <td>1.9</td>\n",
       "      <td>0.076</td>\n",
       "      <td>11.0</td>\n",
       "      <td>34.0</td>\n",
       "      <td>0.9978</td>\n",
       "      <td>3.51</td>\n",
       "      <td>0.56</td>\n",
       "      <td>9.4</td>\n",
       "      <td>5</td>\n",
       "    </tr>\n",
       "  </tbody>\n",
       "</table>\n",
       "</div>"
      ],
      "text/plain": [
       "   fixed acidity  volatile acidity  citric acid  residual sugar  chlorides  \\\n",
       "0            7.4              0.70         0.00             1.9      0.076   \n",
       "1            7.8              0.88         0.00             2.6      0.098   \n",
       "2            7.8              0.76         0.04             2.3      0.092   \n",
       "3           11.2              0.28         0.56             1.9      0.075   \n",
       "4            7.4              0.70         0.00             1.9      0.076   \n",
       "\n",
       "   free sulfur dioxide  total sulfur dioxide  density    pH  sulphates  \\\n",
       "0                 11.0                  34.0   0.9978  3.51       0.56   \n",
       "1                 25.0                  67.0   0.9968  3.20       0.68   \n",
       "2                 15.0                  54.0   0.9970  3.26       0.65   \n",
       "3                 17.0                  60.0   0.9980  3.16       0.58   \n",
       "4                 11.0                  34.0   0.9978  3.51       0.56   \n",
       "\n",
       "   alcohol  quality  \n",
       "0      9.4        5  \n",
       "1      9.8        5  \n",
       "2      9.8        5  \n",
       "3      9.8        6  \n",
       "4      9.4        5  "
      ]
     },
     "execution_count": 14,
     "metadata": {},
     "output_type": "execute_result"
    }
   ],
   "source": [
    "wine.head()"
   ]
  },
  {
   "cell_type": "code",
   "execution_count": 15,
   "metadata": {},
   "outputs": [
    {
     "name": "stdout",
     "output_type": "stream",
     "text": [
      "<class 'pandas.core.frame.DataFrame'>\n",
      "RangeIndex: 1599 entries, 0 to 1598\n",
      "Data columns (total 12 columns):\n",
      " #   Column                Non-Null Count  Dtype  \n",
      "---  ------                --------------  -----  \n",
      " 0   fixed acidity         1599 non-null   float64\n",
      " 1   volatile acidity      1599 non-null   float64\n",
      " 2   citric acid           1599 non-null   float64\n",
      " 3   residual sugar        1599 non-null   float64\n",
      " 4   chlorides             1599 non-null   float64\n",
      " 5   free sulfur dioxide   1599 non-null   float64\n",
      " 6   total sulfur dioxide  1599 non-null   float64\n",
      " 7   density               1599 non-null   float64\n",
      " 8   pH                    1599 non-null   float64\n",
      " 9   sulphates             1599 non-null   float64\n",
      " 10  alcohol               1599 non-null   float64\n",
      " 11  quality               1599 non-null   int64  \n",
      "dtypes: float64(11), int64(1)\n",
      "memory usage: 150.0 KB\n"
     ]
    }
   ],
   "source": [
    "wine.info()"
   ]
  },
  {
   "cell_type": "code",
   "execution_count": 16,
   "metadata": {},
   "outputs": [
    {
     "data": {
      "text/plain": [
       "<AxesSubplot:xlabel='quality', ylabel='fixed acidity'>"
      ]
     },
     "execution_count": 16,
     "metadata": {},
     "output_type": "execute_result"
    },
    {
     "data": {
      "image/png": "[encoded data removed]",
      "text/plain": [
       "<Figure size 720x432 with 1 Axes>"
      ]
     },
     "metadata": {
      "needs_background": "light"
     },
     "output_type": "display_data"
    }
   ],
   "source": [
    "fig = plt.figure(figsize = (10,6))\n",
    "sns.barplot(x = 'quality', y = 'fixed acidity', data = wine)"
   ]
  },
  {
   "cell_type": "code",
   "execution_count": 17,
   "metadata": {},
   "outputs": [
    {
     "data": {
      "text/plain": [
       "<AxesSubplot:xlabel='quality', ylabel='Count'>"
      ]
     },
     "execution_count": 17,
     "metadata": {},
     "output_type": "execute_result"
    },
    {
     "data": {
      "image/png": "[encoded data removed]",
      "text/plain": [
       "<Figure size 720x432 with 1 Axes>"
      ]
     },
     "metadata": {
      "needs_background": "light"
     },
     "output_type": "display_data"
    }
   ],
   "source": [
    "fig = plt.figure(figsize = (10,6))\n",
    "sns.histplot(x = 'quality', data = wine)"
   ]
  },
  {
   "cell_type": "code",
   "execution_count": 31,
   "metadata": {},
   "outputs": [],
   "source": [
    "bins=[0,6.5,8]\n",
    "labels=[\"bad\", \"good\"]\n",
    "wine['quality'] = pd.cut(wine['quality'],bins=bins, labels=labels)"
   ]
  },
  {
   "cell_type": "code",
   "execution_count": 32,
   "metadata": {},
   "outputs": [],
   "source": [
    "label = LabelEncoder()\n",
    "wine['quality'] = label.fit_transform(wine['quality'])"
   ]
  },
  {
   "cell_type": "code",
   "execution_count": 33,
   "metadata": {},
   "outputs": [
    {
     "data": {
      "text/plain": [
       "0    1382\n",
       "1     217\n",
       "Name: quality, dtype: int64"
      ]
     },
     "execution_count": 33,
     "metadata": {},
     "output_type": "execute_result"
    }
   ],
   "source": [
    "wine['quality'].value_counts()"
   ]
  },
  {
   "cell_type": "code",
   "execution_count": 34,
   "metadata": {},
   "outputs": [],
   "source": [
    "X = wine.drop('quality', axis=1)\n",
    "y = wine['quality']"
   ]
  },
  {
   "cell_type": "code",
   "execution_count": 37,
   "metadata": {},
   "outputs": [],
   "source": [
    "X_train, X_test, y_train, y_test = train_test_split(X, y, test_size = 0.3, random_state = 42)"
   ]
  },
  {
   "cell_type": "code",
   "execution_count": 50,
   "metadata": {},
   "outputs": [],
   "source": [
    "def classify_and_score(model):\n",
    "    clf = model.fit(X_train, y_train)\n",
    "    pred = clf.predict(X_test)\n",
    "    print(classification_report(y_test, pred))\n",
    "    print(confusion_matrix(y_test, pred))"
   ]
  },
  {
   "cell_type": "markdown",
   "metadata": {},
   "source": [
    "## Logistic Regression"
   ]
  },
  {
   "cell_type": "code",
   "execution_count": 38,
   "metadata": {},
   "outputs": [
    {
     "name": "stderr",
     "output_type": "stream",
     "text": [
      "/Users/johngolec/opt/anaconda3/lib/python3.8/site-packages/sklearn/linear_model/_logistic.py:762: ConvergenceWarning: lbfgs failed to converge (status=1):\n",
      "STOP: TOTAL NO. of ITERATIONS REACHED LIMIT.\n",
      "\n",
      "Increase the number of iterations (max_iter) or scale the data as shown in:\n",
      "    https://scikit-learn.org/stable/modules/preprocessing.html\n",
      "Please also refer to the documentation for alternative solver options:\n",
      "    https://scikit-learn.org/stable/modules/linear_model.html#logistic-regression\n",
      "  n_iter_i = _check_optimize_result(\n"
     ]
    }
   ],
   "source": [
    "clf = LogisticRegression(random_state=0).fit(X_train, y_train)"
   ]
  },
  {
   "cell_type": "code",
   "execution_count": 39,
   "metadata": {},
   "outputs": [],
   "source": [
    "preds = clf.predict(X_test)"
   ]
  },
  {
   "cell_type": "code",
   "execution_count": 41,
   "metadata": {},
   "outputs": [
    {
     "name": "stdout",
     "output_type": "stream",
     "text": [
      "              precision    recall  f1-score   support\n",
      "\n",
      "           0       0.88      0.97      0.93       413\n",
      "           1       0.54      0.21      0.30        67\n",
      "\n",
      "    accuracy                           0.86       480\n",
      "   macro avg       0.71      0.59      0.61       480\n",
      "weighted avg       0.84      0.86      0.84       480\n",
      "\n"
     ]
    }
   ],
   "source": [
    "print(classification_report(y_test, preds))"
   ]
  },
  {
   "cell_type": "markdown",
   "metadata": {},
   "source": [
    "print(confusion_matrix(y_test, pred))"
   ]
  },
  {
   "cell_type": "markdown",
   "metadata": {},
   "source": [
    "## Linear Discriminant Analysis (LDA)"
   ]
  },
  {
   "cell_type": "code",
   "execution_count": 45,
   "metadata": {},
   "outputs": [],
   "source": [
    "clf2 = LinearDiscriminantAnalysis().fit(X_train, y_train)"
   ]
  },
  {
   "cell_type": "code",
   "execution_count": 46,
   "metadata": {},
   "outputs": [],
   "source": [
    "preds2 = clf2.predict(X_test)"
   ]
  },
  {
   "cell_type": "code",
   "execution_count": 48,
   "metadata": {},
   "outputs": [
    {
     "name": "stdout",
     "output_type": "stream",
     "text": [
      "              precision    recall  f1-score   support\n",
      "\n",
      "           0       0.90      0.93      0.92       413\n",
      "           1       0.46      0.37      0.41        67\n",
      "\n",
      "    accuracy                           0.85       480\n",
      "   macro avg       0.68      0.65      0.66       480\n",
      "weighted avg       0.84      0.85      0.85       480\n",
      "\n"
     ]
    }
   ],
   "source": [
    "print(classification_report(y_test, preds2))"
   ]
  },
  {
   "cell_type": "code",
   "execution_count": 49,
   "metadata": {},
   "outputs": [
    {
     "name": "stdout",
     "output_type": "stream",
     "text": [
      "[[384  29]\n",
      " [ 42  25]]\n"
     ]
    }
   ],
   "source": [
    "print(confusion_matrix(y_test, preds2))"
   ]
  },
  {
   "cell_type": "markdown",
   "metadata": {},
   "source": [
    "## Quadratic Discriminant Analysis (QDA)"
   ]
  },
  {
   "cell_type": "code",
   "execution_count": 55,
   "metadata": {},
   "outputs": [],
   "source": [
    "clf3 = QuadraticDiscriminantAnalysis().fit(X_train, y_train)\n",
    "preds3 = clf3.predict(X_test)"
   ]
  },
  {
   "cell_type": "code",
   "execution_count": 60,
   "metadata": {},
   "outputs": [
    {
     "name": "stdout",
     "output_type": "stream",
     "text": [
      "              precision    recall  f1-score   support\n",
      "\n",
      "           0       0.93      0.86      0.89       413\n",
      "           1       0.41      0.60      0.49        67\n",
      "\n",
      "    accuracy                           0.82       480\n",
      "   macro avg       0.67      0.73      0.69       480\n",
      "weighted avg       0.86      0.82      0.84       480\n",
      "\n"
     ]
    }
   ],
   "source": [
    "print(classification_report(y_test, preds3))"
   ]
  },
  {
   "cell_type": "code",
   "execution_count": 61,
   "metadata": {},
   "outputs": [
    {
     "name": "stdout",
     "output_type": "stream",
     "text": [
      "[[356  57]\n",
      " [ 27  40]]\n"
     ]
    }
   ],
   "source": [
    "print(confusion_matrix(y_test, preds3))"
   ]
  },
  {
   "cell_type": "markdown",
   "metadata": {},
   "source": [
    "## K-Nearest Neighbors (KNN)"
   ]
  },
  {
   "cell_type": "code",
   "execution_count": 62,
   "metadata": {},
   "outputs": [],
   "source": [
    "clf4 = KNeighborsClassifier().fit(X_train, y_train)\n",
    "preds4 = clf4.predict(X_test)"
   ]
  },
  {
   "cell_type": "code",
   "execution_count": 63,
   "metadata": {},
   "outputs": [
    {
     "name": "stdout",
     "output_type": "stream",
     "text": [
      "              precision    recall  f1-score   support\n",
      "\n",
      "           0       0.88      0.97      0.92       413\n",
      "           1       0.48      0.19      0.28        67\n",
      "\n",
      "    accuracy                           0.86       480\n",
      "   macro avg       0.68      0.58      0.60       480\n",
      "weighted avg       0.83      0.86      0.83       480\n",
      "\n"
     ]
    }
   ],
   "source": [
    "print(classification_report(y_test, preds4))"
   ]
  },
  {
   "cell_type": "code",
   "execution_count": 64,
   "metadata": {},
   "outputs": [
    {
     "name": "stdout",
     "output_type": "stream",
     "text": [
      "[[399  14]\n",
      " [ 54  13]]\n"
     ]
    }
   ],
   "source": [
    "print(confusion_matrix(y_test, preds4))"
   ]
  },
  {
   "cell_type": "markdown",
   "metadata": {},
   "source": [
    "## Support Vector Machine (SVM)"
   ]
  },
  {
   "cell_type": "code",
   "execution_count": 78,
   "metadata": {},
   "outputs": [],
   "source": [
    "clf5 = SVC().fit(X_train, y_train)\n",
    "preds5 = clf5.predict(X_test)"
   ]
  },
  {
   "cell_type": "code",
   "execution_count": 79,
   "metadata": {},
   "outputs": [
    {
     "name": "stdout",
     "output_type": "stream",
     "text": [
      "              precision    recall  f1-score   support\n",
      "\n",
      "           0       0.86      1.00      0.93       413\n",
      "           1       1.00      0.01      0.03        67\n",
      "\n",
      "    accuracy                           0.86       480\n",
      "   macro avg       0.93      0.51      0.48       480\n",
      "weighted avg       0.88      0.86      0.80       480\n",
      "\n"
     ]
    }
   ],
   "source": [
    "print(classification_report(y_test, preds5))"
   ]
  },
  {
   "cell_type": "code",
   "execution_count": 80,
   "metadata": {},
   "outputs": [
    {
     "name": "stdout",
     "output_type": "stream",
     "text": [
      "[[413   0]\n",
      " [ 66   1]]\n"
     ]
    }
   ],
   "source": [
    "print(confusion_matrix(y_test, preds5))"
   ]
  },
  {
   "cell_type": "markdown",
   "metadata": {},
   "source": [
    " # NEW: Scale the Data!"
   ]
  },
  {
   "cell_type": "code",
   "execution_count": 81,
   "metadata": {},
   "outputs": [],
   "source": [
    "sc = StandardScaler()"
   ]
  },
  {
   "cell_type": "code",
   "execution_count": 82,
   "metadata": {},
   "outputs": [],
   "source": [
    "X_train = sc.fit_transform(X_train)\n",
    "X_test = sc.fit_transform(X_test)"
   ]
  },
  {
   "cell_type": "code",
   "execution_count": 83,
   "metadata": {},
   "outputs": [
    {
     "name": "stdout",
     "output_type": "stream",
     "text": [
      "              precision    recall  f1-score   support\n",
      "\n",
      "           0       0.90      0.97      0.93       413\n",
      "           1       0.62      0.30      0.40        67\n",
      "\n",
      "    accuracy                           0.88       480\n",
      "   macro avg       0.76      0.63      0.67       480\n",
      "weighted avg       0.86      0.88      0.86       480\n",
      "\n",
      "[[401  12]\n",
      " [ 47  20]]\n"
     ]
    }
   ],
   "source": [
    "classify_and_score(LogisticRegression())"
   ]
  },
  {
   "cell_type": "code",
   "execution_count": 84,
   "metadata": {},
   "outputs": [
    {
     "name": "stdout",
     "output_type": "stream",
     "text": [
      "              precision    recall  f1-score   support\n",
      "\n",
      "           0       0.90      0.94      0.92       413\n",
      "           1       0.49      0.36      0.41        67\n",
      "\n",
      "    accuracy                           0.86       480\n",
      "   macro avg       0.70      0.65      0.67       480\n",
      "weighted avg       0.84      0.86      0.85       480\n",
      "\n",
      "[[388  25]\n",
      " [ 43  24]]\n"
     ]
    }
   ],
   "source": [
    "classify_and_score(LinearDiscriminantAnalysis())"
   ]
  },
  {
   "cell_type": "code",
   "execution_count": 85,
   "metadata": {},
   "outputs": [
    {
     "name": "stdout",
     "output_type": "stream",
     "text": [
      "              precision    recall  f1-score   support\n",
      "\n",
      "           0       0.92      0.87      0.90       413\n",
      "           1       0.42      0.55      0.47        67\n",
      "\n",
      "    accuracy                           0.83       480\n",
      "   macro avg       0.67      0.71      0.69       480\n",
      "weighted avg       0.85      0.83      0.84       480\n",
      "\n",
      "[[361  52]\n",
      " [ 30  37]]\n"
     ]
    }
   ],
   "source": [
    "classify_and_score(QuadraticDiscriminantAnalysis())"
   ]
  },
  {
   "cell_type": "code",
   "execution_count": 86,
   "metadata": {},
   "outputs": [
    {
     "name": "stdout",
     "output_type": "stream",
     "text": [
      "              precision    recall  f1-score   support\n",
      "\n",
      "           0       0.91      0.94      0.93       413\n",
      "           1       0.55      0.42      0.47        67\n",
      "\n",
      "    accuracy                           0.87       480\n",
      "   macro avg       0.73      0.68      0.70       480\n",
      "weighted avg       0.86      0.87      0.86       480\n",
      "\n",
      "[[390  23]\n",
      " [ 39  28]]\n"
     ]
    }
   ],
   "source": [
    "classify_and_score(KNeighborsClassifier())"
   ]
  },
  {
   "cell_type": "code",
   "execution_count": 87,
   "metadata": {},
   "outputs": [
    {
     "name": "stdout",
     "output_type": "stream",
     "text": [
      "              precision    recall  f1-score   support\n",
      "\n",
      "           0       0.89      0.98      0.93       413\n",
      "           1       0.68      0.28      0.40        67\n",
      "\n",
      "    accuracy                           0.88       480\n",
      "   macro avg       0.79      0.63      0.67       480\n",
      "weighted avg       0.86      0.88      0.86       480\n",
      "\n",
      "[[404   9]\n",
      " [ 48  19]]\n"
     ]
    }
   ],
   "source": [
    "classify_and_score(SVC())"
   ]
  },
  {
   "cell_type": "markdown",
   "metadata": {},
   "source": [
    "# Statistical comparison of models using grid search"
   ]
  },
  {
   "cell_type": "code",
   "execution_count": 141,
   "metadata": {},
   "outputs": [],
   "source": [
    "param_grid = [\n",
    "    {\"kernel\": [\"linear\"]},\n",
    "    {\"kernel\": [\"poly\"], \"degree\": [2, 3]},\n",
    "    {\"kernel\": [\"rbf\"]},\n",
    "]\n",
    "\n",
    "svc = SVC(random_state=0)\n",
    "\n",
    "cv = RepeatedStratifiedKFold(n_splits=10, n_repeats=10, random_state=0)\n",
    "\n",
    "search = GridSearchCV(estimator=svc, param_grid=param_grid, scoring='roc_auc', cv=cv)"
   ]
  },
  {
   "cell_type": "code",
   "execution_count": 142,
   "metadata": {},
   "outputs": [
    {
     "data": {
      "text/plain": [
       "GridSearchCV(cv=RepeatedStratifiedKFold(n_repeats=10, n_splits=10, random_state=0),\n",
       "             estimator=SVC(random_state=0),\n",
       "             param_grid=[{'kernel': ['linear']},\n",
       "                         {'degree': [2, 3], 'kernel': ['poly']},\n",
       "                         {'kernel': ['rbf']}],\n",
       "             scoring='roc_auc')"
      ]
     },
     "execution_count": 142,
     "metadata": {},
     "output_type": "execute_result"
    }
   ],
   "source": [
    "search.fit(X_train, y_train)"
   ]
  },
  {
   "cell_type": "code",
   "execution_count": 143,
   "metadata": {
    "collapsed": false,
    "jupyter": {
     "outputs_hidden": false
    }
   },
   "outputs": [
    {
     "data": {
      "text/html": [
       "<div>\n",
       "<style scoped>\n",
       "    .dataframe tbody tr th:only-of-type {\n",
       "        vertical-align: middle;\n",
       "    }\n",
       "\n",
       "    .dataframe tbody tr th {\n",
       "        vertical-align: top;\n",
       "    }\n",
       "\n",
       "    .dataframe thead th {\n",
       "        text-align: right;\n",
       "    }\n",
       "</style>\n",
       "<table border=\"1\" class=\"dataframe\">\n",
       "  <thead>\n",
       "    <tr style=\"text-align: right;\">\n",
       "      <th></th>\n",
       "      <th>params</th>\n",
       "      <th>rank_test_score</th>\n",
       "      <th>mean_test_score</th>\n",
       "      <th>std_test_score</th>\n",
       "    </tr>\n",
       "    <tr>\n",
       "      <th>kernel</th>\n",
       "      <th></th>\n",
       "      <th></th>\n",
       "      <th></th>\n",
       "      <th></th>\n",
       "    </tr>\n",
       "  </thead>\n",
       "  <tbody>\n",
       "    <tr>\n",
       "      <th>rbf</th>\n",
       "      <td>{'kernel': 'rbf'}</td>\n",
       "      <td>1</td>\n",
       "      <td>0.851679</td>\n",
       "      <td>0.062575</td>\n",
       "    </tr>\n",
       "    <tr>\n",
       "      <th>linear</th>\n",
       "      <td>{'kernel': 'linear'}</td>\n",
       "      <td>2</td>\n",
       "      <td>0.847634</td>\n",
       "      <td>0.044500</td>\n",
       "    </tr>\n",
       "    <tr>\n",
       "      <th>3_poly</th>\n",
       "      <td>{'degree': 3, 'kernel': 'poly'}</td>\n",
       "      <td>3</td>\n",
       "      <td>0.825116</td>\n",
       "      <td>0.067431</td>\n",
       "    </tr>\n",
       "    <tr>\n",
       "      <th>2_poly</th>\n",
       "      <td>{'degree': 2, 'kernel': 'poly'}</td>\n",
       "      <td>4</td>\n",
       "      <td>0.718282</td>\n",
       "      <td>0.081501</td>\n",
       "    </tr>\n",
       "  </tbody>\n",
       "</table>\n",
       "</div>"
      ],
      "text/plain": [
       "                                 params  rank_test_score  mean_test_score  \\\n",
       "kernel                                                                      \n",
       "rbf                   {'kernel': 'rbf'}                1         0.851679   \n",
       "linear             {'kernel': 'linear'}                2         0.847634   \n",
       "3_poly  {'degree': 3, 'kernel': 'poly'}                3         0.825116   \n",
       "2_poly  {'degree': 2, 'kernel': 'poly'}                4         0.718282   \n",
       "\n",
       "        std_test_score  \n",
       "kernel                  \n",
       "rbf           0.062575  \n",
       "linear        0.044500  \n",
       "3_poly        0.067431  \n",
       "2_poly        0.081501  "
      ]
     },
     "execution_count": 143,
     "metadata": {},
     "output_type": "execute_result"
    }
   ],
   "source": [
    "results_df = pd.DataFrame(search.cv_results_)\n",
    "results_df = results_df.sort_values(by=[\"rank_test_score\"])\n",
    "results_df = results_df.set_index(\n",
    "    results_df[\"params\"].apply(lambda x: \"_\".join(str(val) for val in x.values()))\n",
    "    ).rename_axis(\"kernel\")\n",
    "results_df[[\"params\", \"rank_test_score\", \"mean_test_score\", \"std_test_score\"]]"
   ]
  },
  {
   "cell_type": "code",
   "execution_count": 144,
   "metadata": {
    "collapsed": false,
    "jupyter": {
     "outputs_hidden": false
    }
   },
   "outputs": [
    {
     "data": {
      "image/png": "[encoded data removed]",
      "text/plain": [
       "<Figure size 432x288 with 1 Axes>"
      ]
     },
     "metadata": {
      "needs_background": "light"
     },
     "output_type": "display_data"
    },
    {
     "name": "stdout",
     "output_type": "stream",
     "text": [
      "Correlation of models:\n",
      " kernel       rbf    linear    3_poly    2_poly\n",
      "kernel                                        \n",
      "rbf     1.000000  0.718923  0.694573  0.661934\n",
      "linear  0.718923  1.000000  0.701806  0.638891\n",
      "3_poly  0.694573  0.701806  1.000000  0.737381\n",
      "2_poly  0.661934  0.638891  0.737381  1.000000\n"
     ]
    }
   ],
   "source": [
    "# create df of model scores ordered by performance\n",
    "model_scores = results_df.filter(regex=r\"split\\d*_test_score\")\n",
    "\n",
    "# plot 30 examples of dependency between cv fold and AUC scores\n",
    "fig, ax = plt.subplots()\n",
    "sns.lineplot(\n",
    "    data=model_scores.transpose().iloc[:30],\n",
    "    dashes=False,\n",
    "    palette=\"Set1\",\n",
    "    marker=\"o\",\n",
    "    alpha=0.5,\n",
    "    ax=ax,\n",
    ")\n",
    "ax.set_xlabel(\"CV test fold\", size=12, labelpad=10)\n",
    "ax.set_ylabel(\"Model AUC\", size=12)\n",
    "ax.tick_params(bottom=True, labelbottom=False)\n",
    "plt.show()\n",
    "\n",
    "# print correlation of AUC scores across folds\n",
    "print(f\"Correlation of models:\\n {model_scores.transpose().corr()}\")"
   ]
  },
  {
   "cell_type": "markdown",
   "metadata": {},
   "source": [
    "## Comparing two models: frequentist approach"
   ]
  },
  {
   "cell_type": "code",
   "execution_count": 145,
   "metadata": {
    "collapsed": false,
    "jupyter": {
     "outputs_hidden": false
    }
   },
   "outputs": [],
   "source": [
    "import numpy as np\n",
    "from scipy.stats import t\n",
    "\n",
    "\n",
    "def corrected_std(differences, n_train, n_test):\n",
    "    \"\"\"Corrects standard deviation using Nadeau and Bengio's approach.\n",
    "\n",
    "    Parameters\n",
    "    ----------\n",
    "    differences : ndarray of shape (n_samples,)\n",
    "        Vector containing the differences in the score metrics of two models.\n",
    "    n_train : int\n",
    "        Number of samples in the training set.\n",
    "    n_test : int\n",
    "        Number of samples in the testing set.\n",
    "\n",
    "    Returns\n",
    "    -------\n",
    "    corrected_std : float\n",
    "        Variance-corrected standard deviation of the set of differences.\n",
    "    \"\"\"\n",
    "    # kr = k times r, r times repeated k-fold crossvalidation,\n",
    "    # kr equals the number of times the model was evaluated\n",
    "    kr = len(differences)\n",
    "    corrected_var = np.var(differences, ddof=1) * (1 / kr + n_test / n_train)\n",
    "    corrected_std = np.sqrt(corrected_var)\n",
    "    return corrected_std\n",
    "\n",
    "\n",
    "def compute_corrected_ttest(differences, df, n_train, n_test):\n",
    "    \"\"\"Computes right-tailed paired t-test with corrected variance.\n",
    "\n",
    "    Parameters\n",
    "    ----------\n",
    "    differences : array-like of shape (n_samples,)\n",
    "        Vector containing the differences in the score metrics of two models.\n",
    "    df : int\n",
    "        Degrees of freedom.\n",
    "    n_train : int\n",
    "        Number of samples in the training set.\n",
    "    n_test : int\n",
    "        Number of samples in the testing set.\n",
    "\n",
    "    Returns\n",
    "    -------\n",
    "    t_stat : float\n",
    "        Variance-corrected t-statistic.\n",
    "    p_val : float\n",
    "        Variance-corrected p-value.\n",
    "    \"\"\"\n",
    "    mean = np.mean(differences)\n",
    "    std = corrected_std(differences, n_train, n_test)\n",
    "    t_stat = mean / std\n",
    "    p_val = t.sf(np.abs(t_stat), df)  # right-tailed t-test\n",
    "    return t_stat, p_val"
   ]
  },
  {
   "cell_type": "code",
   "execution_count": 146,
   "metadata": {
    "collapsed": false,
    "jupyter": {
     "outputs_hidden": false
    }
   },
   "outputs": [
    {
     "name": "stdout",
     "output_type": "stream",
     "text": [
      "Corrected t-value: 0.266\n",
      "Corrected p-value: 0.395\n"
     ]
    }
   ],
   "source": [
    "model_1_scores = model_scores.iloc[0].values  # scores of the best model\n",
    "model_2_scores = model_scores.iloc[1].values  # scores of the second-best model\n",
    "\n",
    "differences = model_1_scores - model_2_scores\n",
    "\n",
    "n = differences.shape[0]  # number of test sets\n",
    "df = n - 1\n",
    "n_train = len(list(cv.split(X, y))[0][0])\n",
    "n_test = len(list(cv.split(X, y))[0][1])\n",
    "\n",
    "t_stat, p_val = compute_corrected_ttest(differences, df, n_train, n_test)\n",
    "print(f\"Corrected t-value: {t_stat:.3f}\\nCorrected p-value: {p_val:.3f}\")"
   ]
  },
  {
   "cell_type": "code",
   "execution_count": 147,
   "metadata": {
    "collapsed": false,
    "jupyter": {
     "outputs_hidden": false
    }
   },
   "outputs": [
    {
     "name": "stdout",
     "output_type": "stream",
     "text": [
      "Uncorrected t-value: 0.925\n",
      "Uncorrected p-value: 0.179\n"
     ]
    }
   ],
   "source": [
    "t_stat_uncorrected = np.mean(differences) / np.sqrt(np.var(differences, ddof=1) / n)\n",
    "p_val_uncorrected = t.sf(np.abs(t_stat_uncorrected), df)\n",
    "\n",
    "print(\n",
    "    f\"Uncorrected t-value: {t_stat_uncorrected:.3f}\\n\"\n",
    "    f\"Uncorrected p-value: {p_val_uncorrected:.3f}\"\n",
    ")"
   ]
  },
  {
   "cell_type": "markdown",
   "metadata": {},
   "source": [
    "## Comparing two models: Bayesian approach"
   ]
  },
  {
   "cell_type": "code",
   "execution_count": 148,
   "metadata": {
    "collapsed": false,
    "jupyter": {
     "outputs_hidden": false
    }
   },
   "outputs": [],
   "source": [
    "# initialize random variable\n",
    "t_post = t(\n",
    "    df, loc=np.mean(differences), scale=corrected_std(differences, n_train, n_test)\n",
    ")"
   ]
  },
  {
   "cell_type": "code",
   "execution_count": 149,
   "metadata": {
    "collapsed": false,
    "jupyter": {
     "outputs_hidden": false
    }
   },
   "outputs": [
    {
     "data": {
      "image/png": "[encoded data removed]",
      "text/plain": [
       "<Figure size 432x288 with 1 Axes>"
      ]
     },
     "metadata": {
      "needs_background": "light"
     },
     "output_type": "display_data"
    }
   ],
   "source": [
    "x = np.linspace(t_post.ppf(0.001), t_post.ppf(0.999), 100)\n",
    "\n",
    "plt.plot(x, t_post.pdf(x))\n",
    "plt.xticks(np.arange(-0.04, 0.06, 0.01))\n",
    "plt.fill_between(x, t_post.pdf(x), 0, facecolor=\"blue\", alpha=0.2)\n",
    "plt.ylabel(\"Probability density\")\n",
    "plt.xlabel(r\"Mean difference ($\\mu$)\")\n",
    "plt.title(\"Posterior distribution\")\n",
    "plt.show()"
   ]
  },
  {
   "cell_type": "code",
   "execution_count": 150,
   "metadata": {
    "collapsed": false,
    "jupyter": {
     "outputs_hidden": false
    }
   },
   "outputs": [
    {
     "name": "stdout",
     "output_type": "stream",
     "text": [
      "Probability of rbf being more accurate than linear: 0.605\n",
      "Probability of linear being more accurate than rbf: 0.395\n"
     ]
    }
   ],
   "source": [
    "better_prob = 1 - t_post.cdf(0)\n",
    "\n",
    "print(\n",
    "    f\"Probability of {model_scores.index[0]} being more accurate than \"\n",
    "    f\"{model_scores.index[1]}: {better_prob:.3f}\"\n",
    ")\n",
    "print(\n",
    "    f\"Probability of {model_scores.index[1]} being more accurate than \"\n",
    "    f\"{model_scores.index[0]}: {1 - better_prob:.3f}\"\n",
    ")"
   ]
  },
  {
   "cell_type": "markdown",
   "metadata": {},
   "source": [
    "### Region of Practical Equivalence"
   ]
  },
  {
   "cell_type": "code",
   "execution_count": 151,
   "metadata": {
    "collapsed": false,
    "jupyter": {
     "outputs_hidden": false
    }
   },
   "outputs": [
    {
     "name": "stdout",
     "output_type": "stream",
     "text": [
      "Probability of rbf and linear being practically equivalent: 0.473\n"
     ]
    }
   ],
   "source": [
    "rope_interval = [-0.01, 0.01]\n",
    "rope_prob = t_post.cdf(rope_interval[1]) - t_post.cdf(rope_interval[0])\n",
    "\n",
    "print(\n",
    "    f\"Probability of {model_scores.index[0]} and {model_scores.index[1]} \"\n",
    "    f\"being practically equivalent: {rope_prob:.3f}\"\n",
    ")"
   ]
  },
  {
   "cell_type": "code",
   "execution_count": 152,
   "metadata": {
    "collapsed": false,
    "jupyter": {
     "outputs_hidden": false
    }
   },
   "outputs": [
    {
     "data": {
      "image/png": "[encoded data removed]",
      "text/plain": [
       "<Figure size 432x288 with 1 Axes>"
      ]
     },
     "metadata": {
      "needs_background": "light"
     },
     "output_type": "display_data"
    }
   ],
   "source": [
    "x_rope = np.linspace(rope_interval[0], rope_interval[1], 100)\n",
    "\n",
    "plt.plot(x, t_post.pdf(x))\n",
    "plt.xticks(np.arange(-0.04, 0.06, 0.01))\n",
    "plt.vlines([-0.01, 0.01], ymin=0, ymax=(np.max(t_post.pdf(x)) + 1))\n",
    "plt.fill_between(x_rope, t_post.pdf(x_rope), 0, facecolor=\"blue\", alpha=0.2)\n",
    "plt.ylabel(\"Probability density\")\n",
    "plt.xlabel(r\"Mean difference ($\\mu$)\")\n",
    "plt.title(\"Posterior distribution under the ROPE\")\n",
    "plt.show()"
   ]
  },
  {
   "cell_type": "code",
   "execution_count": 153,
   "metadata": {
    "collapsed": false,
    "jupyter": {
     "outputs_hidden": false
    }
   },
   "outputs": [
    {
     "data": {
      "text/html": [
       "<div>\n",
       "<style scoped>\n",
       "    .dataframe tbody tr th:only-of-type {\n",
       "        vertical-align: middle;\n",
       "    }\n",
       "\n",
       "    .dataframe tbody tr th {\n",
       "        vertical-align: top;\n",
       "    }\n",
       "\n",
       "    .dataframe thead th {\n",
       "        text-align: right;\n",
       "    }\n",
       "</style>\n",
       "<table border=\"1\" class=\"dataframe\">\n",
       "  <thead>\n",
       "    <tr style=\"text-align: right;\">\n",
       "      <th></th>\n",
       "      <th>lower value</th>\n",
       "      <th>upper value</th>\n",
       "    </tr>\n",
       "    <tr>\n",
       "      <th>interval</th>\n",
       "      <th></th>\n",
       "      <th></th>\n",
       "    </tr>\n",
       "  </thead>\n",
       "  <tbody>\n",
       "    <tr>\n",
       "      <th>0.50</th>\n",
       "      <td>-0.006258</td>\n",
       "      <td>0.014348</td>\n",
       "    </tr>\n",
       "    <tr>\n",
       "      <th>0.75</th>\n",
       "      <td>-0.013565</td>\n",
       "      <td>0.021655</td>\n",
       "    </tr>\n",
       "    <tr>\n",
       "      <th>0.95</th>\n",
       "      <td>-0.026152</td>\n",
       "      <td>0.034243</td>\n",
       "    </tr>\n",
       "  </tbody>\n",
       "</table>\n",
       "</div>"
      ],
      "text/plain": [
       "          lower value  upper value\n",
       "interval                          \n",
       "0.50        -0.006258     0.014348\n",
       "0.75        -0.013565     0.021655\n",
       "0.95        -0.026152     0.034243"
      ]
     },
     "execution_count": 153,
     "metadata": {},
     "output_type": "execute_result"
    }
   ],
   "source": [
    "cred_intervals = []\n",
    "intervals = [0.5, 0.75, 0.95]\n",
    "\n",
    "for interval in intervals:\n",
    "    cred_interval = list(t_post.interval(interval))\n",
    "    cred_intervals.append([interval, cred_interval[0], cred_interval[1]])\n",
    "\n",
    "cred_int_df = pd.DataFrame(\n",
    "    cred_intervals, columns=[\"interval\", \"lower value\", \"upper value\"]\n",
    ").set_index(\"interval\")\n",
    "cred_int_df"
   ]
  },
  {
   "cell_type": "markdown",
   "metadata": {},
   "source": [
    "## Pairwise comparison of all models: frequentist approach"
   ]
  },
  {
   "cell_type": "code",
   "execution_count": 154,
   "metadata": {
    "collapsed": false,
    "jupyter": {
     "outputs_hidden": false
    }
   },
   "outputs": [
    {
     "data": {
      "text/html": [
       "<div>\n",
       "<style scoped>\n",
       "    .dataframe tbody tr th:only-of-type {\n",
       "        vertical-align: middle;\n",
       "    }\n",
       "\n",
       "    .dataframe tbody tr th {\n",
       "        vertical-align: top;\n",
       "    }\n",
       "\n",
       "    .dataframe thead th {\n",
       "        text-align: right;\n",
       "    }\n",
       "</style>\n",
       "<table border=\"1\" class=\"dataframe\">\n",
       "  <thead>\n",
       "    <tr style=\"text-align: right;\">\n",
       "      <th></th>\n",
       "      <th>model_1</th>\n",
       "      <th>model_2</th>\n",
       "      <th>t_stat</th>\n",
       "      <th>p_val</th>\n",
       "    </tr>\n",
       "  </thead>\n",
       "  <tbody>\n",
       "    <tr>\n",
       "      <th>0</th>\n",
       "      <td>rbf</td>\n",
       "      <td>linear</td>\n",
       "      <td>0.266</td>\n",
       "      <td>1.000</td>\n",
       "    </tr>\n",
       "    <tr>\n",
       "      <th>1</th>\n",
       "      <td>rbf</td>\n",
       "      <td>3_poly</td>\n",
       "      <td>1.489</td>\n",
       "      <td>0.419</td>\n",
       "    </tr>\n",
       "    <tr>\n",
       "      <th>2</th>\n",
       "      <td>rbf</td>\n",
       "      <td>2_poly</td>\n",
       "      <td>6.180</td>\n",
       "      <td>0.000</td>\n",
       "    </tr>\n",
       "    <tr>\n",
       "      <th>3</th>\n",
       "      <td>linear</td>\n",
       "      <td>3_poly</td>\n",
       "      <td>1.338</td>\n",
       "      <td>0.552</td>\n",
       "    </tr>\n",
       "    <tr>\n",
       "      <th>4</th>\n",
       "      <td>linear</td>\n",
       "      <td>2_poly</td>\n",
       "      <td>5.854</td>\n",
       "      <td>0.000</td>\n",
       "    </tr>\n",
       "    <tr>\n",
       "      <th>5</th>\n",
       "      <td>3_poly</td>\n",
       "      <td>2_poly</td>\n",
       "      <td>5.498</td>\n",
       "      <td>0.000</td>\n",
       "    </tr>\n",
       "  </tbody>\n",
       "</table>\n",
       "</div>"
      ],
      "text/plain": [
       "  model_1 model_2  t_stat  p_val\n",
       "0     rbf  linear   0.266  1.000\n",
       "1     rbf  3_poly   1.489  0.419\n",
       "2     rbf  2_poly   6.180  0.000\n",
       "3  linear  3_poly   1.338  0.552\n",
       "4  linear  2_poly   5.854  0.000\n",
       "5  3_poly  2_poly   5.498  0.000"
      ]
     },
     "execution_count": 154,
     "metadata": {},
     "output_type": "execute_result"
    }
   ],
   "source": [
    "from itertools import combinations\n",
    "from math import factorial\n",
    "\n",
    "n_comparisons = factorial(len(model_scores)) / (\n",
    "    factorial(2) * factorial(len(model_scores) - 2)\n",
    ")\n",
    "pairwise_t_test = []\n",
    "\n",
    "for model_i, model_k in combinations(range(len(model_scores)), 2):\n",
    "    model_i_scores = model_scores.iloc[model_i].values\n",
    "    model_k_scores = model_scores.iloc[model_k].values\n",
    "    differences = model_i_scores - model_k_scores\n",
    "    t_stat, p_val = compute_corrected_ttest(differences, df, n_train, n_test)\n",
    "    p_val *= n_comparisons  # implement Bonferroni correction\n",
    "    # Bonferroni can output p-values higher than 1\n",
    "    p_val = 1 if p_val > 1 else p_val\n",
    "    pairwise_t_test.append(\n",
    "        [model_scores.index[model_i], model_scores.index[model_k], t_stat, p_val]\n",
    "    )\n",
    "\n",
    "pairwise_comp_df = pd.DataFrame(\n",
    "    pairwise_t_test, columns=[\"model_1\", \"model_2\", \"t_stat\", \"p_val\"]\n",
    ").round(3)\n",
    "pairwise_comp_df"
   ]
  },
  {
   "cell_type": "markdown",
   "metadata": {},
   "source": [
    "## Pairwise comparison of all models: Bayesian approach"
   ]
  },
  {
   "cell_type": "code",
   "execution_count": 155,
   "metadata": {
    "collapsed": false,
    "jupyter": {
     "outputs_hidden": false
    }
   },
   "outputs": [
    {
     "data": {
      "text/html": [
       "<div>\n",
       "<style scoped>\n",
       "    .dataframe tbody tr th:only-of-type {\n",
       "        vertical-align: middle;\n",
       "    }\n",
       "\n",
       "    .dataframe tbody tr th {\n",
       "        vertical-align: top;\n",
       "    }\n",
       "\n",
       "    .dataframe thead th {\n",
       "        text-align: right;\n",
       "    }\n",
       "</style>\n",
       "<table border=\"1\" class=\"dataframe\">\n",
       "  <thead>\n",
       "    <tr style=\"text-align: right;\">\n",
       "      <th></th>\n",
       "      <th>model_1</th>\n",
       "      <th>model_2</th>\n",
       "      <th>t_stat</th>\n",
       "      <th>p_val</th>\n",
       "      <th>worse_prob</th>\n",
       "      <th>better_prob</th>\n",
       "      <th>rope_prob</th>\n",
       "    </tr>\n",
       "  </thead>\n",
       "  <tbody>\n",
       "    <tr>\n",
       "      <th>0</th>\n",
       "      <td>rbf</td>\n",
       "      <td>linear</td>\n",
       "      <td>0.266</td>\n",
       "      <td>1.000</td>\n",
       "      <td>0.179</td>\n",
       "      <td>0.348</td>\n",
       "      <td>0.473</td>\n",
       "    </tr>\n",
       "    <tr>\n",
       "      <th>1</th>\n",
       "      <td>rbf</td>\n",
       "      <td>3_poly</td>\n",
       "      <td>1.489</td>\n",
       "      <td>0.419</td>\n",
       "      <td>0.022</td>\n",
       "      <td>0.822</td>\n",
       "      <td>0.156</td>\n",
       "    </tr>\n",
       "    <tr>\n",
       "      <th>2</th>\n",
       "      <td>rbf</td>\n",
       "      <td>2_poly</td>\n",
       "      <td>6.180</td>\n",
       "      <td>0.000</td>\n",
       "      <td>0.000</td>\n",
       "      <td>1.000</td>\n",
       "      <td>0.000</td>\n",
       "    </tr>\n",
       "    <tr>\n",
       "      <th>3</th>\n",
       "      <td>linear</td>\n",
       "      <td>3_poly</td>\n",
       "      <td>1.338</td>\n",
       "      <td>0.552</td>\n",
       "      <td>0.028</td>\n",
       "      <td>0.771</td>\n",
       "      <td>0.201</td>\n",
       "    </tr>\n",
       "    <tr>\n",
       "      <th>4</th>\n",
       "      <td>linear</td>\n",
       "      <td>2_poly</td>\n",
       "      <td>5.854</td>\n",
       "      <td>0.000</td>\n",
       "      <td>0.000</td>\n",
       "      <td>1.000</td>\n",
       "      <td>0.000</td>\n",
       "    </tr>\n",
       "    <tr>\n",
       "      <th>5</th>\n",
       "      <td>3_poly</td>\n",
       "      <td>2_poly</td>\n",
       "      <td>5.498</td>\n",
       "      <td>0.000</td>\n",
       "      <td>0.000</td>\n",
       "      <td>1.000</td>\n",
       "      <td>0.000</td>\n",
       "    </tr>\n",
       "  </tbody>\n",
       "</table>\n",
       "</div>"
      ],
      "text/plain": [
       "  model_1 model_2  t_stat  p_val  worse_prob  better_prob  rope_prob\n",
       "0     rbf  linear   0.266  1.000       0.179        0.348      0.473\n",
       "1     rbf  3_poly   1.489  0.419       0.022        0.822      0.156\n",
       "2     rbf  2_poly   6.180  0.000       0.000        1.000      0.000\n",
       "3  linear  3_poly   1.338  0.552       0.028        0.771      0.201\n",
       "4  linear  2_poly   5.854  0.000       0.000        1.000      0.000\n",
       "5  3_poly  2_poly   5.498  0.000       0.000        1.000      0.000"
      ]
     },
     "execution_count": 155,
     "metadata": {},
     "output_type": "execute_result"
    }
   ],
   "source": [
    "pairwise_bayesian = []\n",
    "\n",
    "for model_i, model_k in combinations(range(len(model_scores)), 2):\n",
    "    model_i_scores = model_scores.iloc[model_i].values\n",
    "    model_k_scores = model_scores.iloc[model_k].values\n",
    "    differences = model_i_scores - model_k_scores\n",
    "    t_post = t(\n",
    "        df, loc=np.mean(differences), scale=corrected_std(differences, n_train, n_test)\n",
    "    )\n",
    "    worse_prob = t_post.cdf(rope_interval[0])\n",
    "    better_prob = 1 - t_post.cdf(rope_interval[1])\n",
    "    rope_prob = t_post.cdf(rope_interval[1]) - t_post.cdf(rope_interval[0])\n",
    "\n",
    "    pairwise_bayesian.append([worse_prob, better_prob, rope_prob])\n",
    "\n",
    "pairwise_bayesian_df = pd.DataFrame(\n",
    "    pairwise_bayesian, columns=[\"worse_prob\", \"better_prob\", \"rope_prob\"]\n",
    ").round(3)\n",
    "\n",
    "pairwise_comp_df = pairwise_comp_df.join(pairwise_bayesian_df)\n",
    "pairwise_comp_df"
   ]
  },
  {
   "cell_type": "code",
   "execution_count": null,
   "metadata": {},
   "outputs": [],
   "source": []
  }
 ],
 "metadata": {
  "kernelspec": {
   "display_name": "Python 3",
   "language": "python",
   "name": "python3"
  },
  "language_info": {
   "codemirror_mode": {
    "name": "ipython",
    "version": 3
   },
   "file_extension": ".py",
   "mimetype": "text/x-python",
   "name": "python",
   "nbconvert_exporter": "python",
   "pygments_lexer": "ipython3",
   "version": "3.8.5"
  }
 },
 "nbformat": 4,
 "nbformat_minor": 4
}
